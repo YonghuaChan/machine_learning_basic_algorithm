{
 "cells": [
  {
   "cell_type": "markdown",
   "metadata": {},
   "source": [
    "## <font size=3>k近邻算法</font>\n",
    "k-Nearest-Neighbor"
   ]
  },
  {
   "cell_type": "code",
   "execution_count": 2,
   "metadata": {},
   "outputs": [],
   "source": [
    "import numpy as np\n",
    "import matplotlib.pyplot as plt"
   ]
  },
  {
   "cell_type": "code",
   "execution_count": 38,
   "metadata": {},
   "outputs": [],
   "source": [
    "'''\n",
    "原始数据\n",
    "每一个样本的特征\n",
    "\n",
    "'''\n",
    "raw_data_X = [\n",
    "    [3.393535321, 2.331278738],\n",
    "    [3.110075348, 1.781536454],\n",
    "    [1.343805883, 3.368365095],\n",
    "    [3.582295404, 4.679179871],\n",
    "    [2.280362544, 2.866995326],\n",
    "    [7.423436594, 4.696522888],\n",
    "    [5.745051997, 3.533989803],\n",
    "    [9.172168622, 2.585156155],\n",
    "    [7.792684984, 3.424845545],\n",
    "    [7.956156488, 0.785156155],\n",
    "]\n",
    "\n",
    "'''\n",
    "每一个样本的类别\n",
    "'''\n",
    "raw_data_y = [0,0,0,0,0,1,1,1,1,1]"
   ]
  },
  {
   "cell_type": "code",
   "execution_count": 39,
   "metadata": {},
   "outputs": [],
   "source": [
    "'''\n",
    "训练特征点X\n",
    "\n",
    "训练用标签y\n",
    "\n",
    "'''\n",
    "X_train = np.array(raw_data_X)\n",
    "y_train = np.array(raw_data_y)"
   ]
  },
  {
   "cell_type": "code",
   "execution_count": 40,
   "metadata": {},
   "outputs": [
    {
     "data": {
      "text/plain": [
       "array([[3.39353532, 2.33127874],\n",
       "       [3.11007535, 1.78153645],\n",
       "       [1.34380588, 3.3683651 ],\n",
       "       [3.5822954 , 4.67917987],\n",
       "       [2.28036254, 2.86699533],\n",
       "       [7.42343659, 4.69652289],\n",
       "       [5.745052  , 3.5339898 ],\n",
       "       [9.17216862, 2.58515615],\n",
       "       [7.79268498, 3.42484555],\n",
       "       [7.95615649, 0.78515616]])"
      ]
     },
     "execution_count": 40,
     "metadata": {},
     "output_type": "execute_result"
    }
   ],
   "source": [
    "X_train"
   ]
  },
  {
   "cell_type": "code",
   "execution_count": 41,
   "metadata": {},
   "outputs": [
    {
     "data": {
      "text/plain": [
       "array([0, 0, 0, 0, 0, 1, 1, 1, 1, 1])"
      ]
     },
     "execution_count": 41,
     "metadata": {},
     "output_type": "execute_result"
    }
   ],
   "source": [
    "'''\n",
    "向量\n",
    "'''\n",
    "y_train"
   ]
  },
  {
   "cell_type": "code",
   "execution_count": 42,
   "metadata": {},
   "outputs": [
    {
     "data": {
      "image/png": "[encoded data removed]",
      "text/plain": [
       "<Figure size 432x288 with 1 Axes>"
      ]
     },
     "metadata": {
      "needs_background": "light"
     },
     "output_type": "display_data"
    }
   ],
   "source": [
    "'''\n",
    "结合了fancy indexing\n",
    "\n",
    "'''\n",
    "plt.scatter(X_train[y_train==0, 0], X_train[y_train==0, 1], color='red', marker='x')\n",
    "plt.scatter(X_train[y_train==1, 0], X_train[y_train==1, 1], color='blue', marker='+')\n",
    "plt.show()"
   ]
  },
  {
   "cell_type": "code",
   "execution_count": 43,
   "metadata": {},
   "outputs": [],
   "source": [
    "x = np.array([8.093607318, 3.0365731514])"
   ]
  },
  {
   "cell_type": "code",
   "execution_count": 45,
   "metadata": {},
   "outputs": [
    {
     "data": {
      "image/png": "[encoded data removed]",
      "text/plain": [
       "<Figure size 432x288 with 1 Axes>"
      ]
     },
     "metadata": {
      "needs_background": "light"
     },
     "output_type": "display_data"
    }
   ],
   "source": [
    "'''\n",
    "这个绿色点分在那个类别就很明显了\n",
    "'''\n",
    "plt.scatter(X_train[y_train==0, 0], X_train[y_train==0, 1], color='g', marker='x')\n",
    "plt.scatter(X_train[y_train==1, 0], X_train[y_train==1, 1], color='r', marker='+')\n",
    "plt.scatter(x[0], x[1], color='b')\n",
    "plt.show()"
   ]
  },
  {
   "cell_type": "markdown",
   "metadata": {},
   "source": [
    "## <font size=3>kNN的过程</font>"
   ]
  },
  {
   "cell_type": "code",
   "execution_count": 46,
   "metadata": {},
   "outputs": [],
   "source": [
    "'''\n",
    "首先要计算新的x的点, 和原来每一个点的距离是多少\n",
    "\n",
    "d 如何求? 想一想nparray中的universal方法\n",
    "    (x_train - x)**2: 两个向量中的每一个值对应相减 的平方, 这是对这个结果向量的每一个元素都求了平方\n",
    "    np.sum((x_train - x)**2): 然后在把 每一个元素的差的平方 累加\n",
    "    from math import sqrt: 导入开方函数\n",
    "    \n",
    "'''\n",
    "from math import sqrt\n",
    "distances = []  # 距离的空列表\n",
    "for x_train in X_train:  # 在大X的计算每一个小的x的距离\n",
    "    d = sqrt(np.sum((x_train - x)**2))\n",
    "    distances.append(d)  # 再把每一个x_train到x的欧氏距离载入distances列表中"
   ]
  },
  {
   "cell_type": "code",
   "execution_count": 48,
   "metadata": {},
   "outputs": [
    {
     "data": {
      "text/plain": [
       "[4.7526957599405435,\n",
       " 5.139134947423814,\n",
       " 6.757951265418088,\n",
       " 4.801051137060864,\n",
       " 5.815717620492393,\n",
       " 1.790129025334513,\n",
       " 2.400653123857416,\n",
       " 1.169218453123699,\n",
       " 0.4912328396309444,\n",
       " 2.2556088362893254]"
      ]
     },
     "execution_count": 48,
     "metadata": {},
     "output_type": "execute_result"
    }
   ],
   "source": [
    "'''\n",
    "最终, distances中就存放了x与X_train中每一个x_train元素相对应的欧氏距离\n",
    "'''\n",
    "distances"
   ]
  },
  {
   "cell_type": "code",
   "execution_count": 49,
   "metadata": {},
   "outputs": [
    {
     "data": {
      "text/plain": [
       "[4.7526957599405435,\n",
       " 5.139134947423814,\n",
       " 6.757951265418088,\n",
       " 4.801051137060864,\n",
       " 5.815717620492393,\n",
       " 1.790129025334513,\n",
       " 2.400653123857416,\n",
       " 1.169218453123699,\n",
       " 0.4912328396309444,\n",
       " 2.2556088362893254]"
      ]
     },
     "execution_count": 49,
     "metadata": {},
     "output_type": "execute_result"
    }
   ],
   "source": [
    "'''\n",
    "然而实际上上面的过程在Python中使用一句话就能够搞定\n",
    "'''\n",
    "distances = [sqrt(np.sum((x_train - x)**2)) for x_train in X_train]\n",
    "distances"
   ]
  },
  {
   "cell_type": "code",
   "execution_count": 50,
   "metadata": {},
   "outputs": [
    {
     "data": {
      "text/plain": [
       "array([8, 7, 5, 9, 6, 0, 3, 1, 4, 2], dtype=int64)"
      ]
     },
     "execution_count": 50,
     "metadata": {},
     "output_type": "execute_result"
    }
   ],
   "source": [
    "'''\n",
    "距离求出来了, 我们关心的是最近的是哪些点\n",
    "\n",
    "前几节我们学到了 np.argsort(distances)对其进行排序, 但是返回的是相应的索引\n",
    "\n",
    "我们就拿到了从近到远是哪些点\n",
    "\n",
    "'''\n",
    "\n",
    "np.argsort(distances)"
   ]
  },
  {
   "cell_type": "code",
   "execution_count": 54,
   "metadata": {},
   "outputs": [],
   "source": [
    "nearest = np.argsort(distances)"
   ]
  },
  {
   "cell_type": "code",
   "execution_count": 55,
   "metadata": {},
   "outputs": [],
   "source": [
    "k=6"
   ]
  },
  {
   "cell_type": "code",
   "execution_count": 56,
   "metadata": {},
   "outputs": [
    {
     "data": {
      "text/plain": [
       "[1, 1, 1, 1, 1, 0]"
      ]
     },
     "execution_count": 56,
     "metadata": {},
     "output_type": "execute_result"
    }
   ],
   "source": [
    "'''\n",
    "k = 6\n",
    "这六个点所属的y坐标: topK_y = []  # 前k个元素\n",
    "\n",
    "最近的6个点对应的y其中前5个都是1, 最后一个是0\n",
    "\n",
    "'''\n",
    "topK_y = [y_train[i] for i in nearest[:k]]\n",
    "topK_y"
   ]
  },
  {
   "cell_type": "code",
   "execution_count": 57,
   "metadata": {},
   "outputs": [
    {
     "data": {
      "text/plain": [
       "Counter({0: 1, 1: 5})"
      ]
     },
     "execution_count": 57,
     "metadata": {},
     "output_type": "execute_result"
    }
   ],
   "source": [
    "'''\n",
    "我们拿到topK_y, 要数里面不同的类别的点有多少个\n",
    "\n",
    "collections.Counter(<传入数组>): 对传入数组里面的元素出现的频次做统计\n",
    "'''\n",
    "from collections import Counter\n",
    "\n",
    "Counter(topK_y)"
   ]
  },
  {
   "cell_type": "code",
   "execution_count": 58,
   "metadata": {},
   "outputs": [],
   "source": [
    "'''\n",
    "统计票数\n",
    "'''\n",
    "votes = Counter(topK_y)"
   ]
  },
  {
   "cell_type": "code",
   "execution_count": 63,
   "metadata": {},
   "outputs": [
    {
     "data": {
      "text/plain": [
       "[(1, 5)]"
      ]
     },
     "execution_count": 63,
     "metadata": {},
     "output_type": "execute_result"
    }
   ],
   "source": [
    "'''\n",
    "votes.most_common(n): 找出票数最多的n个元素\n",
    "\n",
    "votes.most_common(2): 找出票数最多的2个元素\n",
    "\n",
    "不过我们只对票数最多的那一个感兴趣\n",
    "\n",
    "返回一个数组, 数组里面是元组, 元组[0]:这个是什么元素, 元组[1]:元素的频次\n",
    "\n",
    "'''\n",
    "votes.most_common(1)"
   ]
  },
  {
   "cell_type": "code",
   "execution_count": 62,
   "metadata": {},
   "outputs": [
    {
     "data": {
      "text/plain": [
       "(1, 5)"
      ]
     },
     "execution_count": 62,
     "metadata": {},
     "output_type": "execute_result"
    }
   ],
   "source": [
    "votes.most_common(1)[0]"
   ]
  },
  {
   "cell_type": "code",
   "execution_count": 64,
   "metadata": {},
   "outputs": [
    {
     "data": {
      "text/plain": [
       "1"
      ]
     },
     "execution_count": 64,
     "metadata": {},
     "output_type": "execute_result"
    }
   ],
   "source": [
    "'''\n",
    "这其实就是kNN算法的预测结果, 说明新来的x最有可能是属于1分类的\n",
    "\n",
    "在对应数据的语义中, x是恶性肿瘤的可能性会更大一点\n",
    "'''\n",
    "votes.most_common(1)[0][0]"
   ]
  },
  {
   "cell_type": "code",
   "execution_count": 65,
   "metadata": {},
   "outputs": [
    {
     "data": {
      "text/plain": [
       "1"
      ]
     },
     "execution_count": 65,
     "metadata": {},
     "output_type": "execute_result"
    }
   ],
   "source": [
    "'''\n",
    "如果我们要将结果存储起来, 就会存在predict_y中\n",
    "\n",
    "predict_y的值为1\n",
    "\n",
    "这就是kNN的整个过程\n",
    "'''\n",
    "predict_y = votes.most_common(1)[0][0]\n",
    "predict_y"
   ]
  },
  {
   "cell_type": "code",
   "execution_count": null,
   "metadata": {},
   "outputs": [],
   "source": []
  }
 ],
 "metadata": {
  "kernelspec": {
   "display_name": "Python 3",
   "language": "python",
   "name": "python3"
  },
  "language_info": {
   "codemirror_mode": {
    "name": "ipython",
    "version": 3
   },
   "file_extension": ".py",
   "mimetype": "text/x-python",
   "name": "python",
   "nbconvert_exporter": "python",
   "pygments_lexer": "ipython3",
   "version": "3.6.4"
  },
  "toc": {
   "base_numbering": 1,
   "nav_menu": {},
   "number_sections": false,
   "sideBar": true,
   "skip_h1_title": false,
   "title_cell": "Table of Contents",
   "title_sidebar": "Contents",
   "toc_cell": false,
   "toc_position": {
    "height": "calc(100% - 180px)",
    "left": "10px",
    "top": "150px",
    "width": "358px"
   },
   "toc_section_display": true,
   "toc_window_display": true
  }
 },
 "nbformat": 4,
 "nbformat_minor": 2
}
