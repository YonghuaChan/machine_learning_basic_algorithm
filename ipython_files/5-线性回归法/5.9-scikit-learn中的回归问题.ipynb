{
 "cells": [
  {
   "cell_type": "code",
   "execution_count": 5,
   "metadata": {},
   "outputs": [
    {
     "name": "stdout",
     "output_type": "stream",
     "text": [
      "['', 'D:\\\\Python\\\\Anaconda3\\\\python36.zip', 'D:\\\\Python\\\\Anaconda3\\\\DLLs', 'D:\\\\Python\\\\Anaconda3\\\\lib', 'D:\\\\Python\\\\Anaconda3', 'C:\\\\Users\\\\Yukirito\\\\AppData\\\\Roaming\\\\Python\\\\Python36\\\\site-packages', 'D:\\\\Python\\\\Anaconda3\\\\lib\\\\site-packages', 'D:\\\\Python\\\\Anaconda3\\\\lib\\\\site-packages\\\\win32', 'D:\\\\Python\\\\Anaconda3\\\\lib\\\\site-packages\\\\win32\\\\lib', 'D:\\\\Python\\\\Anaconda3\\\\lib\\\\site-packages\\\\Pythonwin', 'D:\\\\Python\\\\Anaconda3\\\\lib\\\\site-packages\\\\IPython\\\\extensions', 'C:\\\\Users\\\\Yukirito\\\\.ipython', '../', '../../', '../../../']\n"
     ]
    }
   ],
   "source": [
    "import sys\n",
    "\n",
    "# 动态添加test_package文件夹的路径，为了能让此文件夹下的\n",
    "# 自定义包成功的导入\n",
    "# 要根据你自己的实际包的模块来决定路径。\n",
    "\n",
    "\n",
    "if sys.path[-1] != '../../../' :\n",
    "    sys.path.append('../')\n",
    "    sys.path.append('../../')\n",
    "    sys.path.append('../../../')\n",
    "else:\n",
    "    pass\n",
    "\n",
    "# 打印所有python解释器可以搜索到的所有路径\n",
    "print(sys.path)"
   ]
  },
  {
   "cell_type": "markdown",
   "metadata": {},
   "source": [
    "## 5.9-scikit-learn中的回归问题"
   ]
  },
  {
   "cell_type": "code",
   "execution_count": 1,
   "metadata": {},
   "outputs": [],
   "source": [
    "import numpy as np\n",
    "import matplotlib.pyplot as plt\n",
    "from sklearn import datasets"
   ]
  },
  {
   "cell_type": "code",
   "execution_count": 2,
   "metadata": {},
   "outputs": [],
   "source": [
    "'''\n",
    "这一次我们不止取一个boston.data的一个特征, 而是都取了出来\n",
    "'''\n",
    "boston = datasets.load_boston()\n",
    "\n",
    "X = boston.data\n",
    "y = boston.target\n",
    "\n",
    "X = X[y < 50.0]\n",
    "y = y[y < 50.0]"
   ]
  },
  {
   "cell_type": "code",
   "execution_count": 3,
   "metadata": {},
   "outputs": [
    {
     "data": {
      "text/plain": [
       "(490, 13)"
      ]
     },
     "execution_count": 3,
     "metadata": {},
     "output_type": "execute_result"
    }
   ],
   "source": [
    "X.shape"
   ]
  },
  {
   "cell_type": "code",
   "execution_count": 6,
   "metadata": {},
   "outputs": [],
   "source": [
    "from playML.model_selection import train_test_split\n",
    "\n",
    "X_train, X_test, y_train, y_test = train_test_split(X, y, seed=666)"
   ]
  },
  {
   "cell_type": "markdown",
   "metadata": {},
   "source": [
    "### scikit-learn 中的线性回归"
   ]
  },
  {
   "cell_type": "code",
   "execution_count": 7,
   "metadata": {},
   "outputs": [],
   "source": [
    "from sklearn.linear_model import LinearRegression\n",
    "\n",
    "lin_reg = LinearRegression()"
   ]
  },
  {
   "cell_type": "code",
   "execution_count": 8,
   "metadata": {},
   "outputs": [
    {
     "data": {
      "text/plain": [
       "LinearRegression(copy_X=True, fit_intercept=True, n_jobs=1, normalize=False)"
      ]
     },
     "execution_count": 8,
     "metadata": {},
     "output_type": "execute_result"
    }
   ],
   "source": [
    "lin_reg.fit(X_train, y_train)"
   ]
  },
  {
   "cell_type": "code",
   "execution_count": 9,
   "metadata": {},
   "outputs": [
    {
     "data": {
      "text/plain": [
       "array([-1.18919477e-01,  3.63991462e-02, -3.56494193e-02,  5.66737830e-02,\n",
       "       -1.16195486e+01,  3.42022185e+00, -2.31470282e-02, -1.19509560e+00,\n",
       "        2.59339091e-01, -1.40112724e-02, -8.36521175e-01,  7.92283639e-03,\n",
       "       -3.81966137e-01])"
      ]
     },
     "execution_count": 9,
     "metadata": {},
     "output_type": "execute_result"
    }
   ],
   "source": [
    "'''\n",
    "查看系数\n",
    "'''\n",
    "lin_reg.coef_"
   ]
  },
  {
   "cell_type": "code",
   "execution_count": 10,
   "metadata": {},
   "outputs": [
    {
     "data": {
      "text/plain": [
       "34.16143549624665"
      ]
     },
     "execution_count": 10,
     "metadata": {},
     "output_type": "execute_result"
    }
   ],
   "source": [
    "'''\n",
    "查看截距\n",
    "'''\n",
    "lin_reg.intercept_"
   ]
  },
  {
   "cell_type": "code",
   "execution_count": 11,
   "metadata": {},
   "outputs": [
    {
     "data": {
      "text/plain": [
       "0.8129802602658495"
      ]
     },
     "execution_count": 11,
     "metadata": {},
     "output_type": "execute_result"
    }
   ],
   "source": [
    "lin_reg.score(X_test, y_test)"
   ]
  },
  {
   "cell_type": "markdown",
   "metadata": {},
   "source": [
    "### kNN Regressor"
   ]
  },
  {
   "cell_type": "code",
   "execution_count": 12,
   "metadata": {},
   "outputs": [
    {
     "data": {
      "text/plain": [
       "0.5865412198300899"
      ]
     },
     "execution_count": 12,
     "metadata": {},
     "output_type": "execute_result"
    }
   ],
   "source": [
    "from sklearn.neighbors import KNeighborsRegressor\n",
    "\n",
    "knn_reg = KNeighborsRegressor()\n",
    "knn_reg.fit(X_train, y_train)\n",
    "knn_reg.score(X_test, y_test)"
   ]
  },
  {
   "cell_type": "code",
   "execution_count": 13,
   "metadata": {
    "collapsed": true
   },
   "outputs": [
    {
     "name": "stdout",
     "output_type": "stream",
     "text": [
      "Fitting 3 folds for each of 60 candidates, totalling 180 fits\n",
      "[Parallel(n_jobs=-1)]: Done   1 tasks      | elapsed:    5.3s\n",
      "[Parallel(n_jobs=-1)]: Done   2 tasks      | elapsed:    6.4s\n",
      "[Parallel(n_jobs=-1)]: Done   3 tasks      | elapsed:    7.2s\n",
      "[Parallel(n_jobs=-1)]: Done   4 tasks      | elapsed:    8.0s\n",
      "[Parallel(n_jobs=-1)]: Done   5 tasks      | elapsed:    8.8s\n",
      "[Parallel(n_jobs=-1)]: Done   6 tasks      | elapsed:    9.6s\n",
      "[Parallel(n_jobs=-1)]: Done   7 tasks      | elapsed:   10.6s\n",
      "[Parallel(n_jobs=-1)]: Done   8 tasks      | elapsed:   11.6s\n",
      "[Parallel(n_jobs=-1)]: Done   9 tasks      | elapsed:   11.6s\n",
      "[Parallel(n_jobs=-1)]: Done  10 tasks      | elapsed:   11.6s\n",
      "[Parallel(n_jobs=-1)]: Done  11 tasks      | elapsed:   11.6s\n",
      "[Parallel(n_jobs=-1)]: Done  12 tasks      | elapsed:   11.7s\n",
      "[Parallel(n_jobs=-1)]: Done  13 tasks      | elapsed:   11.7s\n",
      "[Parallel(n_jobs=-1)]: Done  14 tasks      | elapsed:   11.7s\n",
      "[Parallel(n_jobs=-1)]: Done  15 tasks      | elapsed:   11.7s\n",
      "[Parallel(n_jobs=-1)]: Done  16 tasks      | elapsed:   11.7s\n",
      "[Parallel(n_jobs=-1)]: Done  17 tasks      | elapsed:   11.7s\n",
      "[Parallel(n_jobs=-1)]: Done  18 tasks      | elapsed:   11.7s\n",
      "[Parallel(n_jobs=-1)]: Done  19 tasks      | elapsed:   11.7s\n",
      "[Parallel(n_jobs=-1)]: Done  20 tasks      | elapsed:   11.7s\n",
      "[Parallel(n_jobs=-1)]: Done  21 tasks      | elapsed:   11.7s\n",
      "[Parallel(n_jobs=-1)]: Done  22 tasks      | elapsed:   11.7s\n",
      "[Parallel(n_jobs=-1)]: Done  23 tasks      | elapsed:   11.7s\n",
      "[Parallel(n_jobs=-1)]: Done  24 tasks      | elapsed:   11.7s\n",
      "[Parallel(n_jobs=-1)]: Done  25 tasks      | elapsed:   11.7s\n",
      "[Parallel(n_jobs=-1)]: Done  26 tasks      | elapsed:   11.7s\n",
      "[Parallel(n_jobs=-1)]: Done  27 tasks      | elapsed:   11.7s\n",
      "[Parallel(n_jobs=-1)]: Done  28 tasks      | elapsed:   11.7s\n",
      "[Parallel(n_jobs=-1)]: Done  29 tasks      | elapsed:   11.7s\n",
      "[Parallel(n_jobs=-1)]: Done  30 tasks      | elapsed:   11.7s\n",
      "[Parallel(n_jobs=-1)]: Done  31 tasks      | elapsed:   11.7s\n",
      "[Parallel(n_jobs=-1)]: Done  32 tasks      | elapsed:   11.7s\n",
      "[Parallel(n_jobs=-1)]: Done  33 tasks      | elapsed:   11.7s\n",
      "[Parallel(n_jobs=-1)]: Done  34 tasks      | elapsed:   11.7s\n",
      "[Parallel(n_jobs=-1)]: Done  35 tasks      | elapsed:   11.7s\n",
      "[Parallel(n_jobs=-1)]: Done  36 tasks      | elapsed:   11.7s\n",
      "[Parallel(n_jobs=-1)]: Done  37 tasks      | elapsed:   11.7s\n",
      "[Parallel(n_jobs=-1)]: Done  38 tasks      | elapsed:   11.8s\n",
      "[Parallel(n_jobs=-1)]: Done  39 tasks      | elapsed:   11.8s\n",
      "[Parallel(n_jobs=-1)]: Done  40 tasks      | elapsed:   11.8s\n",
      "[Parallel(n_jobs=-1)]: Done  41 tasks      | elapsed:   11.8s\n",
      "[Parallel(n_jobs=-1)]: Done  42 tasks      | elapsed:   11.8s\n",
      "[Parallel(n_jobs=-1)]: Done  43 tasks      | elapsed:   11.8s\n",
      "[Parallel(n_jobs=-1)]: Done  44 tasks      | elapsed:   11.8s\n",
      "[Parallel(n_jobs=-1)]: Done  45 tasks      | elapsed:   11.8s\n",
      "[Parallel(n_jobs=-1)]: Done  46 tasks      | elapsed:   11.8s\n",
      "[Parallel(n_jobs=-1)]: Done  47 tasks      | elapsed:   11.8s\n",
      "[Parallel(n_jobs=-1)]: Batch computation too fast (0.1912s.) Setting batch_size=2.\n",
      "[Parallel(n_jobs=-1)]: Done  48 tasks      | elapsed:   11.8s\n",
      "[Parallel(n_jobs=-1)]: Done  49 tasks      | elapsed:   11.9s\n",
      "[Parallel(n_jobs=-1)]: Done  50 tasks      | elapsed:   11.9s\n",
      "[Parallel(n_jobs=-1)]: Done  51 tasks      | elapsed:   11.9s\n",
      "[Parallel(n_jobs=-1)]: Done  52 tasks      | elapsed:   11.9s\n",
      "[Parallel(n_jobs=-1)]: Done  53 tasks      | elapsed:   11.9s\n",
      "[Parallel(n_jobs=-1)]: Done  54 tasks      | elapsed:   11.9s\n",
      "[Parallel(n_jobs=-1)]: Done  55 tasks      | elapsed:   11.9s\n",
      "[Parallel(n_jobs=-1)]: Done  56 tasks      | elapsed:   11.9s\n",
      "[Parallel(n_jobs=-1)]: Done  57 tasks      | elapsed:   12.0s\n",
      "[Parallel(n_jobs=-1)]: Done  59 tasks      | elapsed:   12.1s\n",
      "[Parallel(n_jobs=-1)]: Done  61 tasks      | elapsed:   12.1s\n",
      "[Parallel(n_jobs=-1)]: Done  62 tasks      | elapsed:   12.1s\n",
      "[Parallel(n_jobs=-1)]: Done  63 tasks      | elapsed:   12.1s\n",
      "[Parallel(n_jobs=-1)]: Done  65 tasks      | elapsed:   12.1s\n",
      "[Parallel(n_jobs=-1)]: Done  66 tasks      | elapsed:   12.1s\n",
      "[Parallel(n_jobs=-1)]: Done  67 tasks      | elapsed:   12.1s\n",
      "[Parallel(n_jobs=-1)]: Done  69 tasks      | elapsed:   12.3s\n",
      "[Parallel(n_jobs=-1)]: Done  70 tasks      | elapsed:   12.3s\n",
      "[Parallel(n_jobs=-1)]: Done  72 tasks      | elapsed:   12.4s\n",
      "[Parallel(n_jobs=-1)]: Done  74 tasks      | elapsed:   12.4s\n",
      "[Parallel(n_jobs=-1)]: Done  76 tasks      | elapsed:   12.4s\n",
      "[Parallel(n_jobs=-1)]: Done  78 tasks      | elapsed:   12.4s\n",
      "[Parallel(n_jobs=-1)]: Done  80 tasks      | elapsed:   12.5s\n",
      "[Parallel(n_jobs=-1)]: Done  82 tasks      | elapsed:   12.7s\n",
      "[Parallel(n_jobs=-1)]: Done  84 tasks      | elapsed:   12.8s\n",
      "[Parallel(n_jobs=-1)]: Done  86 tasks      | elapsed:   12.8s\n",
      "[Parallel(n_jobs=-1)]: Done  88 tasks      | elapsed:   12.8s\n",
      "[Parallel(n_jobs=-1)]: Done  90 tasks      | elapsed:   12.8s\n",
      "[Parallel(n_jobs=-1)]: Done  92 tasks      | elapsed:   12.9s\n",
      "[Parallel(n_jobs=-1)]: Done  94 tasks      | elapsed:   12.9s\n",
      "[Parallel(n_jobs=-1)]: Done  96 tasks      | elapsed:   12.9s\n",
      "[Parallel(n_jobs=-1)]: Done  98 tasks      | elapsed:   13.0s\n",
      "[Parallel(n_jobs=-1)]: Done 100 tasks      | elapsed:   13.1s\n",
      "[Parallel(n_jobs=-1)]: Done 102 tasks      | elapsed:   13.2s\n",
      "[Parallel(n_jobs=-1)]: Done 104 tasks      | elapsed:   13.3s\n",
      "[Parallel(n_jobs=-1)]: Done 106 tasks      | elapsed:   13.4s\n",
      "[Parallel(n_jobs=-1)]: Done 108 tasks      | elapsed:   13.4s\n",
      "[Parallel(n_jobs=-1)]: Done 110 tasks      | elapsed:   13.4s\n",
      "[Parallel(n_jobs=-1)]: Done 112 tasks      | elapsed:   13.4s\n",
      "[Parallel(n_jobs=-1)]: Done 114 tasks      | elapsed:   13.4s\n",
      "[Parallel(n_jobs=-1)]: Done 116 tasks      | elapsed:   13.4s\n",
      "[Parallel(n_jobs=-1)]: Done 118 tasks      | elapsed:   13.5s\n",
      "[Parallel(n_jobs=-1)]: Done 120 tasks      | elapsed:   13.5s\n",
      "[Parallel(n_jobs=-1)]: Done 122 tasks      | elapsed:   13.6s\n",
      "[Parallel(n_jobs=-1)]: Done 124 tasks      | elapsed:   13.6s\n",
      "[Parallel(n_jobs=-1)]: Done 126 tasks      | elapsed:   13.6s\n",
      "[Parallel(n_jobs=-1)]: Done 128 tasks      | elapsed:   13.6s\n",
      "[Parallel(n_jobs=-1)]: Done 130 tasks      | elapsed:   13.6s\n",
      "[Parallel(n_jobs=-1)]: Done 132 tasks      | elapsed:   13.6s\n",
      "[Parallel(n_jobs=-1)]: Done 134 tasks      | elapsed:   13.6s\n",
      "[Parallel(n_jobs=-1)]: Done 136 tasks      | elapsed:   13.6s\n",
      "[Parallel(n_jobs=-1)]: Done 138 tasks      | elapsed:   13.7s\n",
      "[Parallel(n_jobs=-1)]: Done 140 tasks      | elapsed:   13.7s\n",
      "[Parallel(n_jobs=-1)]: Done 142 tasks      | elapsed:   13.7s\n",
      "[Parallel(n_jobs=-1)]: Done 144 tasks      | elapsed:   13.8s\n",
      "[Parallel(n_jobs=-1)]: Done 146 tasks      | elapsed:   13.8s\n",
      "[Parallel(n_jobs=-1)]: Done 148 tasks      | elapsed:   13.8s\n",
      "[Parallel(n_jobs=-1)]: Done 150 tasks      | elapsed:   13.8s\n",
      "[Parallel(n_jobs=-1)]: Done 180 out of 180 | elapsed:   14.1s finished\n"
     ]
    },
    {
     "data": {
      "text/plain": [
       "GridSearchCV(cv=None, error_score='raise',\n",
       "       estimator=KNeighborsRegressor(algorithm='auto', leaf_size=30, metric='minkowski',\n",
       "          metric_params=None, n_jobs=1, n_neighbors=5, p=2,\n",
       "          weights='uniform'),\n",
       "       fit_params=None, iid=True, n_jobs=-1,\n",
       "       param_grid=[{'weights': ['uniform'], 'n_neighbors': [1, 2, 3, 4, 5, 6, 7, 8, 9, 10]}, {'weights': ['distance'], 'n_neighbors': [1, 2, 3, 4, 5, 6, 7, 8, 9, 10], 'p': [1, 2, 3, 4, 5]}],\n",
       "       pre_dispatch='2*n_jobs', refit=True, return_train_score='warn',\n",
       "       scoring=None, verbose=50)"
      ]
     },
     "execution_count": 13,
     "metadata": {},
     "output_type": "execute_result"
    }
   ],
   "source": [
    "'''\n",
    "初始k=5\n",
    "score并不理想\n",
    "\n",
    "我们来进行一下超参数调优\n",
    "'''\n",
    "from sklearn.model_selection import GridSearchCV\n",
    "\n",
    "param_grid = [\n",
    "    {\n",
    "        'weights': ['uniform'],\n",
    "        'n_neighbors': [i for i in range(1, 11)]\n",
    "    },\n",
    "    {\n",
    "        'weights': ['distance'],\n",
    "        'n_neighbors': [i for i in range(1, 11)],\n",
    "        'p': [i for i in range(1, 6)]\n",
    "    },\n",
    "]\n",
    "\n",
    "knn_reg = KNeighborsRegressor()\n",
    "grid_search = GridSearchCV(knn_reg, param_grid, n_jobs=-1, verbose=50)\n",
    "grid_search.fit(X_train, y_train)"
   ]
  },
  {
   "cell_type": "code",
   "execution_count": 14,
   "metadata": {},
   "outputs": [
    {
     "data": {
      "text/plain": [
       "{'n_neighbors': 5, 'p': 1, 'weights': 'distance'}"
      ]
     },
     "execution_count": 14,
     "metadata": {},
     "output_type": "execute_result"
    }
   ],
   "source": [
    "grid_search.best_params_"
   ]
  },
  {
   "cell_type": "code",
   "execution_count": 15,
   "metadata": {},
   "outputs": [
    {
     "data": {
      "text/plain": [
       "0.634093080186858"
      ]
     },
     "execution_count": 15,
     "metadata": {},
     "output_type": "execute_result"
    }
   ],
   "source": [
    "'''\n",
    "在这里我们会发现 0.63 和 0.58差不多\n",
    "但是其实他们的score判断方法是不一样得\n",
    "\n",
    "网格搜索使用了 CV交叉验证 的方式\n",
    "'''\n",
    "grid_search.best_score_"
   ]
  },
  {
   "cell_type": "code",
   "execution_count": 17,
   "metadata": {},
   "outputs": [
    {
     "data": {
      "text/plain": [
       "0.7044357727037996"
      ]
     },
     "execution_count": 17,
     "metadata": {},
     "output_type": "execute_result"
    }
   ],
   "source": [
    "'''\n",
    "如果我们要得到和前面数据同样的衡量标准的score\n",
    "\n",
    "基于网格搜索 \n",
    "'''\n",
    "grid_search.best_estimator_.score(X_test, y_test)"
   ]
  },
  {
   "cell_type": "code",
   "execution_count": null,
   "metadata": {},
   "outputs": [],
   "source": []
  }
 ],
 "metadata": {
  "kernelspec": {
   "display_name": "Python 3",
   "language": "python",
   "name": "python3"
  },
  "language_info": {
   "codemirror_mode": {
    "name": "ipython",
    "version": 3
   },
   "file_extension": ".py",
   "mimetype": "text/x-python",
   "name": "python",
   "nbconvert_exporter": "python",
   "pygments_lexer": "ipython3",
   "version": "3.6.4"
  },
  "toc": {
   "base_numbering": 1,
   "nav_menu": {},
   "number_sections": false,
   "sideBar": true,
   "skip_h1_title": false,
   "title_cell": "Table of Contents",
   "title_sidebar": "Contents",
   "toc_cell": false,
   "toc_position": {},
   "toc_section_display": true,
   "toc_window_display": false
  }
 },
 "nbformat": 4,
 "nbformat_minor": 2
}
