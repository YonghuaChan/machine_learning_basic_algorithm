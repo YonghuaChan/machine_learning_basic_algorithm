{
 "cells": [
  {
   "cell_type": "markdown",
   "metadata": {},
   "source": [
    "## 数据归一化处理"
   ]
  },
  {
   "cell_type": "code",
   "execution_count": 1,
   "metadata": {},
   "outputs": [],
   "source": [
    "import numpy as np\n",
    "import matplotlib.pyplot as plt"
   ]
  },
  {
   "cell_type": "markdown",
   "metadata": {},
   "source": [
    "## 最值归一化 - normalization"
   ]
  },
  {
   "cell_type": "code",
   "execution_count": 2,
   "metadata": {},
   "outputs": [],
   "source": [
    "'''\n",
    "对向量进行最值归一化\n",
    "\n",
    "首先随机生成一个向量\n",
    "    是 0~100 之间的随机数, 包含100个\n",
    "'''\n",
    "x = np.random.randint(0, 100, size=100)"
   ]
  },
  {
   "cell_type": "code",
   "execution_count": 3,
   "metadata": {},
   "outputs": [
    {
     "data": {
      "text/plain": [
       "array([46, 87,  2, 90, 16, 58, 44, 98, 11,  2, 63, 52, 75, 21, 51, 52, 42,\n",
       "       32, 97, 36, 61, 80, 80,  2, 20, 92, 11, 24, 55, 91, 36, 18, 17, 69,\n",
       "       77, 65, 96,  6, 70, 48, 10, 87, 80, 94, 49, 87, 76, 50, 41, 74, 43,\n",
       "       71, 97, 82, 87, 29, 43,  2, 75, 35, 19, 48, 33, 21, 40, 25, 20, 62,\n",
       "       75, 68, 50, 80, 18, 18, 45,  4, 98,  0, 36, 46, 16, 51, 89, 64, 98,\n",
       "       12, 19, 49, 91, 40, 90, 98, 93, 29, 49, 35, 32, 48, 90, 67])"
      ]
     },
     "execution_count": 3,
     "metadata": {},
     "output_type": "execute_result"
    }
   ],
   "source": [
    "x"
   ]
  },
  {
   "cell_type": "code",
   "execution_count": 4,
   "metadata": {},
   "outputs": [
    {
     "data": {
      "text/plain": [
       "array([0.46938776, 0.8877551 , 0.02040816, 0.91836735, 0.16326531,\n",
       "       0.59183673, 0.44897959, 1.        , 0.1122449 , 0.02040816,\n",
       "       0.64285714, 0.53061224, 0.76530612, 0.21428571, 0.52040816,\n",
       "       0.53061224, 0.42857143, 0.32653061, 0.98979592, 0.36734694,\n",
       "       0.62244898, 0.81632653, 0.81632653, 0.02040816, 0.20408163,\n",
       "       0.93877551, 0.1122449 , 0.24489796, 0.56122449, 0.92857143,\n",
       "       0.36734694, 0.18367347, 0.17346939, 0.70408163, 0.78571429,\n",
       "       0.66326531, 0.97959184, 0.06122449, 0.71428571, 0.48979592,\n",
       "       0.10204082, 0.8877551 , 0.81632653, 0.95918367, 0.5       ,\n",
       "       0.8877551 , 0.7755102 , 0.51020408, 0.41836735, 0.75510204,\n",
       "       0.43877551, 0.7244898 , 0.98979592, 0.83673469, 0.8877551 ,\n",
       "       0.29591837, 0.43877551, 0.02040816, 0.76530612, 0.35714286,\n",
       "       0.19387755, 0.48979592, 0.33673469, 0.21428571, 0.40816327,\n",
       "       0.25510204, 0.20408163, 0.63265306, 0.76530612, 0.69387755,\n",
       "       0.51020408, 0.81632653, 0.18367347, 0.18367347, 0.45918367,\n",
       "       0.04081633, 1.        , 0.        , 0.36734694, 0.46938776,\n",
       "       0.16326531, 0.52040816, 0.90816327, 0.65306122, 1.        ,\n",
       "       0.12244898, 0.19387755, 0.5       , 0.92857143, 0.40816327,\n",
       "       0.91836735, 1.        , 0.94897959, 0.29591837, 0.5       ,\n",
       "       0.35714286, 0.32653061, 0.48979592, 0.91836735, 0.68367347])"
      ]
     },
     "execution_count": 4,
     "metadata": {},
     "output_type": "execute_result"
    }
   ],
   "source": [
    "'''\n",
    "np.min(x) 代表一个值\n",
    "(x - np.min(x)) 代表 x 向量中的每一个值减去 np.min(x) -> 依然还是一个向量\n",
    "'''\n",
    "(x - np.min(x)) / (np.max(x) - np.min(x))"
   ]
  },
  {
   "cell_type": "code",
   "execution_count": 5,
   "metadata": {},
   "outputs": [],
   "source": [
    "'''\n",
    "对矩阵进行最值归一化\n",
    "\n",
    "首先定义一个随机矩阵\n",
    "'''\n",
    "X = np.random.randint(0, 100, size=(50, 2))"
   ]
  },
  {
   "cell_type": "code",
   "execution_count": 6,
   "metadata": {},
   "outputs": [
    {
     "data": {
      "text/plain": [
       "array([[60, 79],\n",
       "       [59, 37],\n",
       "       [49, 77],\n",
       "       [89, 35],\n",
       "       [89, 88],\n",
       "       [ 0, 33],\n",
       "       [56, 56],\n",
       "       [28, 67],\n",
       "       [53, 33],\n",
       "       [44, 54]])"
      ]
     },
     "execution_count": 6,
     "metadata": {},
     "output_type": "execute_result"
    }
   ],
   "source": [
    "'''\n",
    "这个随机矩阵X 有50个样本, 每个样本有两个特征, 每个特征都在 0~100 之间\n",
    "'''\n",
    "X[:10]"
   ]
  },
  {
   "cell_type": "markdown",
   "metadata": {},
   "source": [
    "由于 Numpy 存取的矩阵只能是一种类型, 上面那样写就只能存放整型\n",
    "\n",
    "但是我们 最值归一化, 将所有数据归一到 0~1 之间, 得到的是浮点数\n",
    "\n",
    "所以在这里做一步处理"
   ]
  },
  {
   "cell_type": "code",
   "execution_count": 7,
   "metadata": {},
   "outputs": [],
   "source": [
    "'''\n",
    "在这里强制让 data type = float\n",
    "'''\n",
    "X = np.array(X, dtype=float)"
   ]
  },
  {
   "cell_type": "markdown",
   "metadata": {},
   "source": [
    "这样一来, 取前10个样本, 其中每一个元素都是浮点数了"
   ]
  },
  {
   "cell_type": "code",
   "execution_count": 8,
   "metadata": {},
   "outputs": [
    {
     "data": {
      "text/plain": [
       "array([[60., 79.],\n",
       "       [59., 37.],\n",
       "       [49., 77.],\n",
       "       [89., 35.],\n",
       "       [89., 88.],\n",
       "       [ 0., 33.],\n",
       "       [56., 56.],\n",
       "       [28., 67.],\n",
       "       [53., 33.],\n",
       "       [44., 54.]])"
      ]
     },
     "execution_count": 8,
     "metadata": {},
     "output_type": "execute_result"
    }
   ],
   "source": [
    "X[:10, :]"
   ]
  },
  {
   "cell_type": "markdown",
   "metadata": {},
   "source": [
    "现在, 我们对它进行 最值归一化\n",
    "\n",
    "其实就是对 特征矩阵X 中的每一个 特征向量 做 最值归一化"
   ]
  },
  {
   "cell_type": "code",
   "execution_count": 9,
   "metadata": {},
   "outputs": [],
   "source": [
    "'''\n",
    "这里注意, 每一个维度对应是在 列 这个方向上, \n",
    "让 X[:, 0] = 这一列所有的数值X[:, 0] 减去 这一列所有的数值的最小值np.min(X[:, 0]) 的结果 除以 这一列所有的数值对应的最大值np.max(X[:, 0]) - np.min(X[:, 0])\n",
    "\n",
    "\n",
    "这样就对 第0个维度, 也就是 第一个特征值 进行了 最值归一化\n",
    "\n",
    "'''\n",
    "X[:, 0] = (X[:, 0] - np.min(X[:, 0])) / (np.max(X[:, 0]) - np.min(X[:, 0]))"
   ]
  },
  {
   "cell_type": "code",
   "execution_count": 10,
   "metadata": {},
   "outputs": [],
   "source": [
    "'''\n",
    "第二个特征值同上\n",
    "'''\n",
    "X[:, 1] = (X[:, 1] - np.min(X[:, 1])) / (np.max(X[:, 1]) - np.min(X[:, 1]))"
   ]
  },
  {
   "cell_type": "markdown",
   "metadata": {},
   "source": [
    "这里我们只有 2 个特征, 所以直接写就OK了\n",
    "\n",
    "如果是有很多个特征的情况, 我们可以考虑写个循环"
   ]
  },
  {
   "cell_type": "code",
   "execution_count": 11,
   "metadata": {},
   "outputs": [
    {
     "data": {
      "text/plain": [
       "array([[0.60606061, 0.83870968],\n",
       "       [0.5959596 , 0.38709677],\n",
       "       [0.49494949, 0.8172043 ],\n",
       "       [0.8989899 , 0.3655914 ],\n",
       "       [0.8989899 , 0.93548387],\n",
       "       [0.        , 0.34408602],\n",
       "       [0.56565657, 0.59139785],\n",
       "       [0.28282828, 0.70967742],\n",
       "       [0.53535354, 0.34408602],\n",
       "       [0.44444444, 0.56989247]])"
      ]
     },
     "execution_count": 11,
     "metadata": {},
     "output_type": "execute_result"
    }
   ],
   "source": [
    "'''\n",
    "现在取出前十行, 数据值就已经在 0~1 之间了\n",
    "\n",
    "'''\n",
    "X[:10, :]"
   ]
  },
  {
   "cell_type": "code",
   "execution_count": 12,
   "metadata": {},
   "outputs": [
    {
     "data": {
      "image/png": "[encoded data removed]",
      "text/plain": [
       "<Figure size 432x288 with 1 Axes>"
      ]
     },
     "metadata": {
      "needs_background": "light"
     },
     "output_type": "display_data"
    }
   ],
   "source": [
    " '''\n",
    " 简单绘制一下我们的样本\n",
    "     \n",
    "     整个数据 无论是横纵坐标, 都在 0~1 之间\n",
    " '''\n",
    "plt.scatter(X[:, 0], X[:, 1])\n",
    "plt.show()"
   ]
  },
  {
   "cell_type": "code",
   "execution_count": 13,
   "metadata": {},
   "outputs": [
    {
     "data": {
      "text/plain": [
       "0.5602020202020203"
      ]
     },
     "execution_count": 13,
     "metadata": {},
     "output_type": "execute_result"
    }
   ],
   "source": [
    "'''\n",
    "查看 X[:, 0] 第0列 对应的 均值 是多少\n",
    "\n",
    "与 0.5 有偏差\n",
    "\n",
    "'''\n",
    "\n",
    "np.mean(X[:, 0])"
   ]
  },
  {
   "cell_type": "code",
   "execution_count": 14,
   "metadata": {},
   "outputs": [
    {
     "data": {
      "text/plain": [
       "0.27854044062499245"
      ]
     },
     "execution_count": 14,
     "metadata": {},
     "output_type": "execute_result"
    }
   ],
   "source": [
    "'''\n",
    "同理, 我们可以查看一下 第0列 的方差是多少\n",
    "\n",
    "'''\n",
    "\n",
    "np.std(X[:, 0])"
   ]
  },
  {
   "cell_type": "code",
   "execution_count": 15,
   "metadata": {},
   "outputs": [
    {
     "data": {
      "text/plain": [
       "0.5174193548387097"
      ]
     },
     "execution_count": 15,
     "metadata": {},
     "output_type": "execute_result"
    }
   ],
   "source": [
    "np.mean(X[:, 1])"
   ]
  },
  {
   "cell_type": "code",
   "execution_count": 16,
   "metadata": {},
   "outputs": [
    {
     "data": {
      "text/plain": [
       "0.2733268190386392"
      ]
     },
     "execution_count": 16,
     "metadata": {},
     "output_type": "execute_result"
    }
   ],
   "source": [
    "np.std(X[:, 1])"
   ]
  },
  {
   "cell_type": "markdown",
   "metadata": {},
   "source": [
    "## 均值方差归一化 - standardization"
   ]
  },
  {
   "cell_type": "code",
   "execution_count": 26,
   "metadata": {},
   "outputs": [],
   "source": [
    "X2 = np.random.randint(0, 100, (50, 2))"
   ]
  },
  {
   "cell_type": "code",
   "execution_count": 27,
   "metadata": {},
   "outputs": [],
   "source": [
    "X2 = np.array(X2, dtype=float)"
   ]
  },
  {
   "cell_type": "code",
   "execution_count": 28,
   "metadata": {},
   "outputs": [],
   "source": [
    "X2[:, 0] = (X2[:, 0] - np.mean(X2[:, 0])) / np.std(X2[:, 0])"
   ]
  },
  {
   "cell_type": "code",
   "execution_count": 29,
   "metadata": {},
   "outputs": [],
   "source": [
    "X2[:, 1] = (X2[:, 1] - np.mean(X2[:, 1])) / np.std(X2[:, 1])"
   ]
  },
  {
   "cell_type": "code",
   "execution_count": 30,
   "metadata": {},
   "outputs": [
    {
     "data": {
      "image/png": "[encoded data removed]",
      "text/plain": [
       "<Figure size 432x288 with 1 Axes>"
      ]
     },
     "metadata": {
      "needs_background": "light"
     },
     "output_type": "display_data"
    }
   ],
   "source": [
    "'''\n",
    "均值方差归一: 不会集中到 0~1 , 而是关于(0, 0)中心对称\n",
    "\n",
    "'''\n",
    "plt.scatter(X2[:, 0], X2[:, 1])\n",
    "plt.show()"
   ]
  },
  {
   "cell_type": "code",
   "execution_count": 31,
   "metadata": {},
   "outputs": [
    {
     "data": {
      "text/plain": [
       "1.3100631690576846e-16"
      ]
     },
     "execution_count": 31,
     "metadata": {},
     "output_type": "execute_result"
    }
   ],
   "source": [
    "'''\n",
    "我们求 X2 第0列的均值, 发现这是个非常小的数, 我们可以看作是0\n",
    "\n",
    "'''\n",
    "\n",
    "np.mean(X2[:, 0])"
   ]
  },
  {
   "cell_type": "code",
   "execution_count": 32,
   "metadata": {},
   "outputs": [
    {
     "data": {
      "text/plain": [
       "1.0"
      ]
     },
     "execution_count": 32,
     "metadata": {},
     "output_type": "execute_result"
    }
   ],
   "source": [
    "'''\n",
    "这个方差就是 1 了\n",
    "'''\n",
    "\n",
    "np.std(X2[:, 0])"
   ]
  },
  {
   "cell_type": "code",
   "execution_count": 33,
   "metadata": {},
   "outputs": [
    {
     "data": {
      "text/plain": [
       "-1.2878587085651815e-16"
      ]
     },
     "execution_count": 33,
     "metadata": {},
     "output_type": "execute_result"
    }
   ],
   "source": [
    "'''\n",
    "约等于 0\n",
    "'''\n",
    "\n",
    "\n",
    "np.mean(X2[:, 1])"
   ]
  },
  {
   "cell_type": "code",
   "execution_count": 34,
   "metadata": {},
   "outputs": [
    {
     "data": {
      "text/plain": [
       "1.0"
      ]
     },
     "execution_count": 34,
     "metadata": {},
     "output_type": "execute_result"
    }
   ],
   "source": [
    "np.std(X2[:, 1])"
   ]
  },
  {
   "cell_type": "code",
   "execution_count": null,
   "metadata": {},
   "outputs": [],
   "source": [
    "'''\n",
    "对于最值归一化来说, \n",
    "    适合数据分布有明显的边界的情况\n",
    "    如果有极端值 outlier, 就会形成有偏数据\n",
    "\n",
    "均值方差归一化默认就是把 所有的特征值 的放在 均值为0, 方差为1 的分布中\n",
    "\n",
    "即使数据集中有 outlier, 也不会影响分布范围, 不会形成有偏数据\n",
    "\n",
    "'''\n",
    "\n",
    "\n"
   ]
  }
 ],
 "metadata": {
  "kernelspec": {
   "display_name": "Python 3",
   "language": "python",
   "name": "python3"
  },
  "language_info": {
   "codemirror_mode": {
    "name": "ipython",
    "version": 3
   },
   "file_extension": ".py",
   "mimetype": "text/x-python",
   "name": "python",
   "nbconvert_exporter": "python",
   "pygments_lexer": "ipython3",
   "version": "3.6.4"
  },
  "toc": {
   "base_numbering": 1,
   "nav_menu": {},
   "number_sections": false,
   "sideBar": true,
   "skip_h1_title": false,
   "title_cell": "Table of Contents",
   "title_sidebar": "Contents",
   "toc_cell": false,
   "toc_position": {
    "height": "calc(100% - 180px)",
    "left": "10px",
    "top": "150px",
    "width": "323px"
   },
   "toc_section_display": true,
   "toc_window_display": true
  }
 },
 "nbformat": 4,
 "nbformat_minor": 2
}
