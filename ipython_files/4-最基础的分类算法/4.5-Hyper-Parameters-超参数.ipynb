{
 "cells": [
  {
   "cell_type": "markdown",
   "metadata": {},
   "source": [
    "## 超参数"
   ]
  },
  {
   "cell_type": "code",
   "execution_count": 1,
   "metadata": {},
   "outputs": [],
   "source": [
    "import numpy as np\n",
    "from sklearn import datasets"
   ]
  },
  {
   "cell_type": "code",
   "execution_count": 3,
   "metadata": {},
   "outputs": [],
   "source": [
    "digits = datasets.load_digits()\n",
    "X = digits.data\n",
    "y = digits.target"
   ]
  },
  {
   "cell_type": "code",
   "execution_count": 4,
   "metadata": {},
   "outputs": [],
   "source": [
    "from sklearn.model_selection import train_test_split\n",
    "\n",
    "X_train, X_test, y_train, y_test = train_test_split(X, y, test_size=0.2, random_state=666)"
   ]
  },
  {
   "cell_type": "code",
   "execution_count": 7,
   "metadata": {},
   "outputs": [
    {
     "data": {
      "text/plain": [
       "0.9888888888888889"
      ]
     },
     "execution_count": 7,
     "metadata": {},
     "output_type": "execute_result"
    }
   ],
   "source": [
    "from sklearn.neighbors import KNeighborsClassifier\n",
    " \n",
    "knn_clf = KNeighborsClassifier(n_neighbors=3)\n",
    "knn_clf.fit(X_train, y_train)\n",
    "# knn_clf.predict(X_test)\n",
    "knn_clf.score(X_test, y_test)"
   ]
  },
  {
   "cell_type": "code",
   "execution_count": 8,
   "metadata": {},
   "outputs": [
    {
     "data": {
      "text/plain": [
       "'\\nn_neighbors 之前我们都是随意传 3, 5, 6\\n\\n但是究竟传什么才是最好的呢?(后面会用 超参数GridSearchCV网格搜索)\\n\\n 超参数 就是运行机器学习算法之前需要指定的参数\\n\\n\\n'"
      ]
     },
     "execution_count": 8,
     "metadata": {},
     "output_type": "execute_result"
    }
   ],
   "source": [
    "'''\n",
    "n_neighbors 之前我们都是随意传 3, 5, 6\n",
    "\n",
    "但是究竟传什么才是最好的呢?(后面会用 超参数GridSearchCV网格搜索)\n",
    "\n",
    " 超参数 就是运行机器学习算法之前需要指定的参数\n",
    " \n",
    " 注意这门课不是为了从底层设计机器学习算法库, 而是为了更好地使用官方的机器学习算法库\n",
    "\n",
    "\n",
    "\n",
    "'''"
   ]
  },
  {
   "cell_type": "markdown",
   "metadata": {},
   "source": [
    "### 寻找最好的k"
   ]
  },
  {
   "cell_type": "code",
   "execution_count": 13,
   "metadata": {},
   "outputs": [
    {
     "name": "stdout",
     "output_type": "stream",
     "text": [
      "best_k =  4\n",
      "best_score =  0.9916666666666667\n"
     ]
    }
   ],
   "source": [
    "'''\n",
    "best_score: 最好准确率的值初始化为0\n",
    "best_k = -1\n",
    "\n",
    "通过循环的形式来寻找最好的k\n",
    "\n",
    "调参过程\n",
    "'''\n",
    "best_score = 0.0\n",
    "best_k = -1\n",
    "\n",
    "for k in range(1, 11):\n",
    "    knn_clf = KNeighborsClassifier(n_neighbors=k)\n",
    "    knn_clf.fit(X_train, y_train)\n",
    "    score = knn_clf.score(X_test, y_test)\n",
    "    if score > best_score:\n",
    "        best_k = k\n",
    "        best_score = score\n",
    "\n",
    "print(\"best_k = \", best_k)\n",
    "print(\"best_score = \", best_score)"
   ]
  },
  {
   "cell_type": "code",
   "execution_count": 12,
   "metadata": {},
   "outputs": [
    {
     "name": "stdout",
     "output_type": "stream",
     "text": [
      "best_k =  8\n",
      "best_score =  0.9861111111111112\n"
     ]
    }
   ],
   "source": [
    "'''\n",
    "上面我们循环只进行到了10\n",
    "\n",
    "我们可以试试 8~20 的范围有没有可能得到更好的结果\n",
    "'''\n",
    "# best_score = 0.0\n",
    "# best_k = -1\n",
    "\n",
    "# for k in range(8, 21):\n",
    "#     knn_clf = KNeighborsClassifier(n_neighbors=k)\n",
    "#     knn_clf.fit(X_train, y_train)\n",
    "#     score = knn_clf.score(X_test, y_test)\n",
    "#     if score > best_score:\n",
    "#         best_k = k\n",
    "#         best_score = score\n",
    "\n",
    "# print(\"best_k = \", best_k)\n",
    "# print(\"best_score = \", best_score)"
   ]
  },
  {
   "cell_type": "code",
   "execution_count": null,
   "metadata": {},
   "outputs": [],
   "source": [
    "'''\n",
    "注意: 不要以为 kNN 中只有 k 一个超参数\n",
    "\n",
    "还有 权值!\n",
    "\n",
    "'''"
   ]
  }
 ],
 "metadata": {
  "kernelspec": {
   "display_name": "Python 3",
   "language": "python",
   "name": "python3"
  },
  "language_info": {
   "codemirror_mode": {
    "name": "ipython",
    "version": 3
   },
   "file_extension": ".py",
   "mimetype": "text/x-python",
   "name": "python",
   "nbconvert_exporter": "python",
   "pygments_lexer": "ipython3",
   "version": "3.6.4"
  },
  "toc": {
   "base_numbering": 1,
   "nav_menu": {},
   "number_sections": false,
   "sideBar": true,
   "skip_h1_title": false,
   "title_cell": "Table of Contents",
   "title_sidebar": "Contents",
   "toc_cell": false,
   "toc_position": {},
   "toc_section_display": true,
   "toc_window_display": true
  }
 },
 "nbformat": 4,
 "nbformat_minor": 2
}
